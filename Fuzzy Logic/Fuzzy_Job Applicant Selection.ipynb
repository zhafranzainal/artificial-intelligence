{
 "cells": [
  {
   "cell_type": "markdown",
   "id": "fee1b8c6",
   "metadata": {},
   "source": [
    "# QUESTION: Job Applicant Selection"
   ]
  },
  {
   "cell_type": "markdown",
   "id": "136f1ce9",
   "metadata": {},
   "source": [
    "Input: \\\n",
    "Educational background - high school, diploma, degree, master, doctoral, postdoc \\\n",
    "Professional qualifications - inadequate, adequate, exceptional \\\n",
    "Working experience - very low, low, medium, high, very high\n",
    "\n",
    "Output: \\\n",
    "Qualification - low, medium, high \n",
    "\n",
    "Rules:\n",
    "\n",
    "IF (educational background is high school) AND (professional qualifications are inadequate OR working experience is very low) THEN qualification is low. \\\n",
    "IF (educational background is high school) AND (professional qualifications are adequate) AND (working experience is low) THEN qualification is low. \\\n",
    "IF (educational background is high school) AND (professional qualifications are exceptional) AND (working experience is medium) THEN qualification is medium. \\\n",
    "IF (educational background is high school) AND (professional qualifications are exceptional) AND (working experience is high OR very high) THEN qualification is high.\n",
    "\n",
    "IF (educational background is diploma) AND (professional qualifications are inadequate OR working experience is very low) THEN qualification is low. \\\n",
    "IF (educational background is diploma) AND (professional qualifications are adequate OR exceptional) AND (working experience is low) THEN qualification is medium. \\\n",
    "IF (educational background is diploma) AND (professional qualifications are exceptional) AND (working experience is medium OR high OR very high) THEN qualification is high.\n",
    "\n",
    "IF (educational background is degree OR higher) AND (professional qualifications are inadequate OR working experience is very low) THEN qualification is low. \\\n",
    "IF (educational background is degree OR higher) AND (professional qualifications are adequate) AND (working experience is low) THEN qualification is medium. \\\n",
    "IF (educational background is degree OR higher) AND (professional qualifications are exceptional) AND (working experience is medium OR high OR very high) THEN qualification is high.\n",
    "\n",
    "Q: How qualified is the candidate if the educational background is rated 40 out of 100, the professional qualifications is rated 80 out of 100, and the years of working experience is 1?"
   ]
  },
  {
   "cell_type": "markdown",
   "id": "f111ff96",
   "metadata": {},
   "source": [
    "## 1. Install scikit-fuzzy package & libraries"
   ]
  },
  {
   "cell_type": "code",
   "execution_count": null,
   "id": "6efd7d48",
   "metadata": {
    "scrolled": true
   },
   "outputs": [],
   "source": [
    "# install fuzzy package\n",
    "!pip install -U scikit-fuzzy"
   ]
  },
  {
   "cell_type": "code",
   "execution_count": null,
   "id": "61e9e720",
   "metadata": {},
   "outputs": [],
   "source": [
    "import numpy as np\n",
    "import skfuzzy as fuzz\n",
    "from skfuzzy import control as ctrl"
   ]
  },
  {
   "cell_type": "markdown",
   "id": "8d595659",
   "metadata": {},
   "source": [
    "## 2. Declare fuzzy variable and membership function"
   ]
  },
  {
   "cell_type": "code",
   "execution_count": null,
   "id": "2cf748ba",
   "metadata": {},
   "outputs": [],
   "source": [
    "# new Antecedent/Consequent objects hold universe variables and membership functions\n",
    "\n",
    "educational_background = ctrl.Antecedent(np.arange(0, 101, 1), 'educational background')\n",
    "professional_qualification = ctrl.Antecedent(np.arange(0, 101, 1), 'professional qualification')\n",
    "working_experience = ctrl.Antecedent(np.arange(0, 41, 1), 'working experience')\n",
    "\n",
    "qualification = ctrl.Consequent(np.arange(0, 21, 1), 'qualification')"
   ]
  },
  {
   "cell_type": "markdown",
   "id": "e9b9384b",
   "metadata": {},
   "source": [
    "## 3. Create fuzzy membership function for Educational Background"
   ]
  },
  {
   "cell_type": "code",
   "execution_count": null,
   "id": "555d31d2",
   "metadata": {},
   "outputs": [],
   "source": [
    "# create membership function for educational background\n",
    "educational_background['high school'] = fuzz.trapmf(educational_background.universe, [0, 0, 10, 20])\n",
    "educational_background['diploma'] = fuzz.trimf(educational_background.universe, [10, 20, 40])\n",
    "educational_background['degree'] = fuzz.trimf(educational_background.universe, [20, 40, 60])\n",
    "educational_background['master'] = fuzz.trimf(educational_background.universe, [40, 60, 80])\n",
    "educational_background['doctoral'] = fuzz.trimf(educational_background.universe, [60, 80, 100])\n",
    "educational_background['postdoc'] = fuzz.trapmf(educational_background.universe, [80, 100, 110, 111])\n",
    "\n",
    "# visualize plot generated \n",
    "educational_background.view()"
   ]
  },
  {
   "cell_type": "markdown",
   "id": "315acfeb",
   "metadata": {},
   "source": [
    "## 4. Create fuzzy membership function for Professional Qualification"
   ]
  },
  {
   "cell_type": "code",
   "execution_count": null,
   "id": "ed6948c6",
   "metadata": {},
   "outputs": [],
   "source": [
    "# create membership function for professional qualification\n",
    "professional_qualification['inadequate'] = fuzz.trimf(professional_qualification.universe, [0, 0, 50])\n",
    "professional_qualification['adequate'] = fuzz.trimf(professional_qualification.universe, [0, 50, 100])\n",
    "professional_qualification['exceptional'] = fuzz.trimf(professional_qualification.universe, [50, 100, 150])\n",
    "\n",
    "# visualize plot generated \n",
    "professional_qualification.view()"
   ]
  },
  {
   "cell_type": "markdown",
   "id": "bbbd4b94",
   "metadata": {},
   "source": [
    "## 5. Create fuzzy membership function for Working Experience"
   ]
  },
  {
   "cell_type": "code",
   "execution_count": null,
   "id": "b7d43704",
   "metadata": {
    "scrolled": false
   },
   "outputs": [],
   "source": [
    "# custom membership function for Working Experience\n",
    "working_experience['very low'] = fuzz.trimf(working_experience.universe, [0, 0, 10])\n",
    "working_experience['low'] = fuzz.trimf(working_experience.universe, [0, 10, 20])\n",
    "working_experience['medium'] = fuzz.trimf(working_experience.universe, [10, 20, 30])\n",
    "working_experience['high'] = fuzz.trimf(working_experience.universe, [20, 30, 40])\n",
    "working_experience['very high'] = fuzz.trimf(working_experience.universe, [30, 40, 50])\n",
    "    \n",
    "# visualize plot generated \n",
    "working_experience.view()"
   ]
  },
  {
   "cell_type": "markdown",
   "id": "ece92e6b",
   "metadata": {},
   "source": [
    "## 6. Create fuzzy membership function for Qualification"
   ]
  },
  {
   "cell_type": "code",
   "execution_count": null,
   "id": "4c56234d",
   "metadata": {
    "scrolled": false
   },
   "outputs": [],
   "source": [
    "# custom membership function for Qualification\n",
    "qualification['low'] = fuzz.trimf(qualification.universe, [0, 0, 5])\n",
    "qualification['medium'] = fuzz.trapmf(qualification.universe, [0, 5, 10, 15])\n",
    "qualification['high'] = fuzz.trapmf(qualification.universe, [10, 15, 20, 21])\n",
    "\n",
    "# visualize plot generated \n",
    "qualification.view()"
   ]
  },
  {
   "cell_type": "markdown",
   "id": "3809463e",
   "metadata": {},
   "source": [
    "## 7. Construct fuzzy rules"
   ]
  },
  {
   "cell_type": "code",
   "execution_count": null,
   "id": "635163bd",
   "metadata": {},
   "outputs": [],
   "source": [
    "# create rules\n",
    "rule1 = ctrl.Rule(educational_background['high school'] & (professional_qualification['inadequate'] | working_experience['very low']), qualification['low'])\n",
    "rule2 = ctrl.Rule(educational_background['high school'] & professional_qualification['adequate'] & working_experience['low'], qualification['low'])\n",
    "rule3 = ctrl.Rule(educational_background['high school'] & professional_qualification['exceptional'] & working_experience['medium'], qualification['medium'])\n",
    "rule4 = ctrl.Rule(educational_background['high school'] & professional_qualification['exceptional'] & (working_experience['high'] | working_experience['very high']), qualification['high'])\n",
    "\n",
    "rule5 = ctrl.Rule(educational_background['diploma'] & (professional_qualification['inadequate'] | working_experience['very low']), qualification['low'])\n",
    "rule6 = ctrl.Rule(educational_background['diploma'] & (professional_qualification['adequate'] | professional_qualification['exceptional']) & working_experience['low'], qualification['medium'])\n",
    "rule7 = ctrl.Rule(educational_background['diploma'] & professional_qualification['exceptional'] & (working_experience['medium'] | working_experience['high'] | working_experience['very high']), qualification['high'])\n",
    "\n",
    "rule8 = ctrl.Rule((educational_background['degree'] | educational_background['master'] | educational_background['doctoral'] | educational_background['postdoc']) & (professional_qualification['inadequate'] | working_experience['very low']), qualification['low'])\n",
    "rule9 = ctrl.Rule((educational_background['degree'] | educational_background['master'] | educational_background['doctoral'] | educational_background['postdoc']) & professional_qualification['adequate'] & working_experience['low'], qualification['medium'])\n",
    "rule10 = ctrl.Rule((educational_background['degree'] | educational_background['master'] | educational_background['doctoral'] | educational_background['postdoc']) & professional_qualification['exceptional'] & (working_experience['medium'] | working_experience['high'] | working_experience['very high']), qualification['high'])\n",
    "\n",
    "candidate_qualification_ctrl = ctrl.ControlSystem([rule1, rule2, rule3, rule4, rule5, rule6, rule7, rule8, rule9, rule10])\n",
    "candidate_qualification = ctrl.ControlSystemSimulation(candidate_qualification_ctrl)"
   ]
  },
  {
   "cell_type": "markdown",
   "id": "c6be3d3f",
   "metadata": {},
   "source": [
    "## 8. Defuzzification"
   ]
  },
  {
   "cell_type": "code",
   "execution_count": null,
   "id": "9e6a3097",
   "metadata": {},
   "outputs": [],
   "source": [
    "candidate_qualification.input['educational background'] = 40\n",
    "candidate_qualification.input['professional qualification'] = 80\n",
    "candidate_qualification.input['working experience'] = 1\n",
    "candidate_qualification.compute()\n",
    "\n",
    "print(\"Candidate qualification:\", round(candidate_qualification.output['qualification'], 2)) \n",
    "qualification.view(sim=candidate_qualification)"
   ]
  }
 ],
 "metadata": {
  "kernelspec": {
   "display_name": "Python 3 (ipykernel)",
   "language": "python",
   "name": "python3"
  },
  "language_info": {
   "codemirror_mode": {
    "name": "ipython",
    "version": 3
   },
   "file_extension": ".py",
   "mimetype": "text/x-python",
   "name": "python",
   "nbconvert_exporter": "python",
   "pygments_lexer": "ipython3",
   "version": "3.9.13"
  }
 },
 "nbformat": 4,
 "nbformat_minor": 5
}
