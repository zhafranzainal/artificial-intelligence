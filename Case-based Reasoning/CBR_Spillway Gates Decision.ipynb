{
 "cells": [
  {
   "cell_type": "code",
   "execution_count": 1,
   "id": "02cbcd08",
   "metadata": {},
   "outputs": [
    {
     "data": {
      "text/html": [
       "<div>\n",
       "<style scoped>\n",
       "    .dataframe tbody tr th:only-of-type {\n",
       "        vertical-align: middle;\n",
       "    }\n",
       "\n",
       "    .dataframe tbody tr th {\n",
       "        vertical-align: top;\n",
       "    }\n",
       "\n",
       "    .dataframe thead th {\n",
       "        text-align: right;\n",
       "    }\n",
       "</style>\n",
       "<table border=\"1\" class=\"dataframe\">\n",
       "  <thead>\n",
       "    <tr style=\"text-align: right;\">\n",
       "      <th></th>\n",
       "      <th>Case</th>\n",
       "      <th>Dam Water Level</th>\n",
       "      <th>Sg. Pahang</th>\n",
       "      <th>Sg. Soi</th>\n",
       "      <th>Sg. Pekan</th>\n",
       "      <th>Sg. Gambang</th>\n",
       "      <th>Gate</th>\n",
       "    </tr>\n",
       "  </thead>\n",
       "  <tbody>\n",
       "    <tr>\n",
       "      <th>0</th>\n",
       "      <td>1</td>\n",
       "      <td>29.26</td>\n",
       "      <td>11.06</td>\n",
       "      <td>30.40</td>\n",
       "      <td>15.99</td>\n",
       "      <td>23.00</td>\n",
       "      <td>Open</td>\n",
       "    </tr>\n",
       "    <tr>\n",
       "      <th>1</th>\n",
       "      <td>2</td>\n",
       "      <td>28.99</td>\n",
       "      <td>13.09</td>\n",
       "      <td>29.01</td>\n",
       "      <td>17.09</td>\n",
       "      <td>20.99</td>\n",
       "      <td>Close</td>\n",
       "    </tr>\n",
       "    <tr>\n",
       "      <th>2</th>\n",
       "      <td>3</td>\n",
       "      <td>29.50</td>\n",
       "      <td>12.89</td>\n",
       "      <td>20.99</td>\n",
       "      <td>21.99</td>\n",
       "      <td>21.09</td>\n",
       "      <td>Close</td>\n",
       "    </tr>\n",
       "    <tr>\n",
       "      <th>3</th>\n",
       "      <td>4</td>\n",
       "      <td>27.01</td>\n",
       "      <td>10.11</td>\n",
       "      <td>27.89</td>\n",
       "      <td>11.09</td>\n",
       "      <td>19.22</td>\n",
       "      <td>Open</td>\n",
       "    </tr>\n",
       "  </tbody>\n",
       "</table>\n",
       "</div>"
      ],
      "text/plain": [
       "   Case  Dam Water Level  Sg. Pahang  Sg. Soi  Sg. Pekan  Sg. Gambang   Gate\n",
       "0     1            29.26       11.06    30.40      15.99        23.00   Open\n",
       "1     2            28.99       13.09    29.01      17.09        20.99  Close\n",
       "2     3            29.50       12.89    20.99      21.99        21.09  Close\n",
       "3     4            27.01       10.11    27.89      11.09        19.22   Open"
      ]
     },
     "execution_count": 1,
     "metadata": {},
     "output_type": "execute_result"
    }
   ],
   "source": [
    "# Retrieve\n",
    "\n",
    "import os\n",
    "import pandas as pd\n",
    "\n",
    "current_dir = os.getcwd()\n",
    "relative_path = \"CBR_Spillway Gates Decision.xlsx\"\n",
    "\n",
    "file_path = os.path.join(current_dir, relative_path)\n",
    "data = pd.read_excel(file_path)\n",
    "data"
   ]
  },
  {
   "cell_type": "code",
   "execution_count": 2,
   "id": "7af24115",
   "metadata": {},
   "outputs": [
    {
     "data": {
      "text/plain": [
       "[2.49, 2.98, 9.41, 10.9, 3.78]"
      ]
     },
     "execution_count": 2,
     "metadata": {},
     "output_type": "execute_result"
    }
   ],
   "source": [
    "# Reuse (Range)\n",
    "\n",
    "attributes = []\n",
    "ranges = []\n",
    "\n",
    "for column in data:\n",
    "    if data[column].dtype != object and column != 'Case':\n",
    "        attributes.append(column)\n",
    "        column_range = max(data[column]) - min(data[column])\n",
    "        ranges.append(round(column_range, 2))\n",
    "        \n",
    "ranges"
   ]
  },
  {
   "cell_type": "code",
   "execution_count": 3,
   "id": "3d0b6d89",
   "metadata": {},
   "outputs": [
    {
     "name": "stdout",
     "output_type": "stream",
     "text": [
      "Enter the value for Dam Water Level: 29.50\n",
      "Enter the value for Sg. Pahang: 12\n",
      "Enter the value for Sg. Soi: 20.00\n",
      "Enter the value for Sg. Pekan: 22\n",
      "Enter the value for Sg. Gambang: 20\n"
     ]
    },
    {
     "data": {
      "text/plain": [
       "[[0.9036, 0.6846, -0.1052, 0.4486, 0.2063],\n",
       " [0.7952, 0.6342, 0.0425, 0.5495, 0.7381],\n",
       " [1.0, 0.7013, 0.8948, 0.9991, 0.7116],\n",
       " [0.0, 0.3658, 0.1615, -0.0009, 0.7937]]"
      ]
     },
     "execution_count": 3,
     "metadata": {},
     "output_type": "execute_result"
    }
   ],
   "source": [
    "# Reuse (Local Similarity)\n",
    "\n",
    "new = []\n",
    "\n",
    "# Prompt user to enter the values for new case\n",
    "for i in range(len(attributes)):\n",
    "    new_case = float(input(f\"Enter the value for {attributes[i]}: \"))\n",
    "    new.append(new_case)\n",
    "    \n",
    "local_similarities = []\n",
    "\n",
    "for j in range(len(data.index)):\n",
    "    local_sim_case = []  # List to store local similarity values for each case\n",
    "    \n",
    "    for i in range(len(new)):\n",
    "        local_sim_attribute = 1 - (abs(new[i] - data[attributes[i]][j]) / ranges[i])\n",
    "        local_sim_case.append(round(local_sim_attribute, 4))\n",
    "    \n",
    "    local_similarities.append(local_sim_case)\n",
    "\n",
    "local_similarities"
   ]
  },
  {
   "cell_type": "code",
   "execution_count": 4,
   "id": "c718d4e8",
   "metadata": {},
   "outputs": [
    {
     "name": "stdout",
     "output_type": "stream",
     "text": [
      "[0.4673, 0.5633, 0.8582, 0.2407]\n",
      "Max GS: 0.8582\n",
      "Corresponding Case: 3\n",
      "Solution: Close\n"
     ]
    }
   ],
   "source": [
    "# Reuse (Global Similarity)\n",
    "\n",
    "weight = [1, 2, 1, 2, 1]\n",
    "weight_total = sum(weight)\n",
    "\n",
    "global_similarities = []\n",
    "\n",
    "for i in range(len(local_similarities)):\n",
    "    global_sim_case = (1/weight_total) * sum(weight[j] * local_similarities[i][j] for j in range(len(weight)))\n",
    "    global_similarities.append(round(global_sim_case, 4))\n",
    "    \n",
    "print(global_similarities)\n",
    "\n",
    "max_gs = max(global_similarities)\n",
    "print(\"Max GS:\", max_gs)\n",
    "\n",
    "corresponding_row = global_similarities.index(max_gs)\n",
    "solution = data.loc[corresponding_row, \"Gate\"]\n",
    "print(\"Corresponding Case:\", corresponding_row+1)\n",
    "print(\"Solution:\", solution)"
   ]
  },
  {
   "cell_type": "code",
   "execution_count": 5,
   "id": "3cfda6af",
   "metadata": {},
   "outputs": [],
   "source": [
    "# Revise"
   ]
  },
  {
   "cell_type": "code",
   "execution_count": 6,
   "id": "90b34de4",
   "metadata": {},
   "outputs": [
    {
     "data": {
      "text/html": [
       "<div>\n",
       "<style scoped>\n",
       "    .dataframe tbody tr th:only-of-type {\n",
       "        vertical-align: middle;\n",
       "    }\n",
       "\n",
       "    .dataframe tbody tr th {\n",
       "        vertical-align: top;\n",
       "    }\n",
       "\n",
       "    .dataframe thead th {\n",
       "        text-align: right;\n",
       "    }\n",
       "</style>\n",
       "<table border=\"1\" class=\"dataframe\">\n",
       "  <thead>\n",
       "    <tr style=\"text-align: right;\">\n",
       "      <th></th>\n",
       "      <th>Case</th>\n",
       "      <th>Dam Water Level</th>\n",
       "      <th>Sg. Pahang</th>\n",
       "      <th>Sg. Soi</th>\n",
       "      <th>Sg. Pekan</th>\n",
       "      <th>Sg. Gambang</th>\n",
       "      <th>Gate</th>\n",
       "    </tr>\n",
       "  </thead>\n",
       "  <tbody>\n",
       "    <tr>\n",
       "      <th>0</th>\n",
       "      <td>1</td>\n",
       "      <td>29.26</td>\n",
       "      <td>11.06</td>\n",
       "      <td>30.40</td>\n",
       "      <td>15.99</td>\n",
       "      <td>23.00</td>\n",
       "      <td>Open</td>\n",
       "    </tr>\n",
       "    <tr>\n",
       "      <th>1</th>\n",
       "      <td>2</td>\n",
       "      <td>28.99</td>\n",
       "      <td>13.09</td>\n",
       "      <td>29.01</td>\n",
       "      <td>17.09</td>\n",
       "      <td>20.99</td>\n",
       "      <td>Close</td>\n",
       "    </tr>\n",
       "    <tr>\n",
       "      <th>2</th>\n",
       "      <td>3</td>\n",
       "      <td>29.50</td>\n",
       "      <td>12.89</td>\n",
       "      <td>20.99</td>\n",
       "      <td>21.99</td>\n",
       "      <td>21.09</td>\n",
       "      <td>Close</td>\n",
       "    </tr>\n",
       "    <tr>\n",
       "      <th>3</th>\n",
       "      <td>4</td>\n",
       "      <td>27.01</td>\n",
       "      <td>10.11</td>\n",
       "      <td>27.89</td>\n",
       "      <td>11.09</td>\n",
       "      <td>19.22</td>\n",
       "      <td>Open</td>\n",
       "    </tr>\n",
       "    <tr>\n",
       "      <th>4</th>\n",
       "      <td>5</td>\n",
       "      <td>29.50</td>\n",
       "      <td>12.00</td>\n",
       "      <td>20.00</td>\n",
       "      <td>22.00</td>\n",
       "      <td>20.00</td>\n",
       "      <td>Close</td>\n",
       "    </tr>\n",
       "  </tbody>\n",
       "</table>\n",
       "</div>"
      ],
      "text/plain": [
       "   Case  Dam Water Level  Sg. Pahang  Sg. Soi  Sg. Pekan  Sg. Gambang   Gate\n",
       "0     1            29.26       11.06    30.40      15.99        23.00   Open\n",
       "1     2            28.99       13.09    29.01      17.09        20.99  Close\n",
       "2     3            29.50       12.89    20.99      21.99        21.09  Close\n",
       "3     4            27.01       10.11    27.89      11.09        19.22   Open\n",
       "4     5            29.50       12.00    20.00      22.00        20.00  Close"
      ]
     },
     "execution_count": 6,
     "metadata": {},
     "output_type": "execute_result"
    }
   ],
   "source": [
    "# Retain\n",
    "\n",
    "case_no = len(data.index) + 1\n",
    "new_row = pd.DataFrame([[case_no, *new, \"Close\"]], columns=data.columns)\n",
    "\n",
    "data = pd.concat([data, new_row], ignore_index=True)\n",
    "data.to_excel(file_path, index=False)\n",
    "data"
   ]
  }
 ],
 "metadata": {
  "kernelspec": {
   "display_name": "Python 3 (ipykernel)",
   "language": "python",
   "name": "python3"
  },
  "language_info": {
   "codemirror_mode": {
    "name": "ipython",
    "version": 3
   },
   "file_extension": ".py",
   "mimetype": "text/x-python",
   "name": "python",
   "nbconvert_exporter": "python",
   "pygments_lexer": "ipython3",
   "version": "3.9.13"
  }
 },
 "nbformat": 4,
 "nbformat_minor": 5
}
