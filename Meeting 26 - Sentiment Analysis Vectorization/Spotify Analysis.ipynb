{
 "cells": [
  {
   "cell_type": "code",
   "execution_count": null,
   "id": "948aa518",
   "metadata": {},
   "outputs": [],
   "source": [
    "!pip install wordcloud"
   ]
  },
  {
   "cell_type": "code",
   "execution_count": null,
   "id": "7a4a9224",
   "metadata": {},
   "outputs": [],
   "source": [
    "import pandas as pd\n",
    "\n",
    "data = pd.read_csv('reviews.csv')\n",
    "data = data.head(10000)\n",
    "\n",
    "data.tail()"
   ]
  },
  {
   "cell_type": "code",
   "execution_count": null,
   "id": "8ffffa79",
   "metadata": {},
   "outputs": [],
   "source": [
    "data.isnull().sum()"
   ]
  },
  {
   "cell_type": "code",
   "execution_count": null,
   "id": "9e0f80fa",
   "metadata": {},
   "outputs": [],
   "source": [
    "data.drop(['Time_submitted', 'Reply'], axis=1, inplace=True)\n",
    "data.isnull().sum()"
   ]
  },
  {
   "cell_type": "code",
   "execution_count": null,
   "id": "aedd511a",
   "metadata": {},
   "outputs": [],
   "source": [
    "import seaborn as sns\n",
    "sns.countplot(x='Rating', data=data, palette='pastel')"
   ]
  },
  {
   "cell_type": "code",
   "execution_count": null,
   "id": "c53be466",
   "metadata": {},
   "outputs": [],
   "source": [
    "def transform_ratings(rating):\n",
    "    if rating == 5 or rating == 4:\n",
    "        return \"Good\"\n",
    "    if rating == 3:\n",
    "        return \"Neutral\"\n",
    "    if rating == 2 or rating == 1:\n",
    "        return \"Bad\""
   ]
  },
  {
   "cell_type": "code",
   "execution_count": null,
   "id": "65f384ce",
   "metadata": {},
   "outputs": [],
   "source": [
    "# Create a new column ‘Desc’ by transforming the Rating into a character shape\n",
    "data['Desc'] = data['Rating'].apply(transform_ratings)\n",
    "\n",
    "# Create a new column ‘length’ filled with the number of words in the Review column\n",
    "data['length'] = data['Review'].str.len()\n",
    "\n",
    "sns.countplot(x='Desc', data=data, palette='pastel')\n",
    "data.head()"
   ]
  },
  {
   "cell_type": "code",
   "execution_count": null,
   "id": "101a0de8",
   "metadata": {},
   "outputs": [],
   "source": [
    "sns.scatterplot(x=data['length'][data.length < 500], y=data['Total_thumbsup'][data.Total_thumbsup < 800], hue=data['Desc'])"
   ]
  },
  {
   "cell_type": "code",
   "execution_count": null,
   "id": "231bb1d1",
   "metadata": {},
   "outputs": [],
   "source": [
    "from wordcloud import WordCloud\n",
    "import matplotlib.pyplot as plt\n",
    "\n",
    "reviews = \" \".join(data.loc[:,'Review'])\n",
    "\n",
    "# Create a wordcloud based on all the rows in the “Review” column\n",
    "wordcloud = WordCloud(\n",
    "    width = 800, height = 800,\n",
    "    background_color ='white',\n",
    "    min_font_size = 10\n",
    ").generate(reviews)\n",
    "\n",
    "plt.imshow(wordcloud)"
   ]
  },
  {
   "cell_type": "code",
   "execution_count": null,
   "id": "698a1ae9",
   "metadata": {},
   "outputs": [],
   "source": [
    "import re\n",
    "from nltk.corpus import stopwords\n",
    "from nltk.stem import PorterStemmer\n",
    "\n",
    "# Change all words into lowercase/small letter\n",
    "data.loc[:,'Review'] = data.loc[:,'Review'].apply(lambda x: \" \".join(x.lower() for x in x.split()))\n",
    "\n",
    "# Remove characters that are not included in alphanumeric (remove special characters)\n",
    "data.loc[:,'Review'] = data.loc[:,'Review'].apply(lambda word: re.sub('[^a-z A-Z 0-9-]+', '', word))\n",
    "\n",
    "# Remove stopwords\n",
    "stop_words = stopwords.words('english')\n",
    "data.loc[:,'Review'] = data.loc[:,'Review'].apply(lambda word: \" \".join(word for word in word.split() if word not in stop_words))\n",
    "\n",
    "# Do stemming process in ‘Review’ column\n",
    "stemmer = PorterStemmer()\n",
    "data.loc[:,'Review'] = data.loc[:,'Review'].apply(lambda \n",
    "word:\" \".join(stemmer.stem(word) for word in word.split()))\n",
    "\n",
    "data.head()[\"Review\"]"
   ]
  },
  {
   "cell_type": "code",
   "execution_count": null,
   "id": "e3c3733c",
   "metadata": {},
   "outputs": [],
   "source": [
    "from sklearn.model_selection import train_test_split\n",
    "\n",
    "X = data['Review']\n",
    "y = data['Desc']\n",
    "\n",
    "X_train, X_test, y_train, y_test = train_test_split(X, y, test_size=0.25, random_state=40)\n",
    "X_train.shape, X_test.shape, y_train.shape, y_test.shape"
   ]
  },
  {
   "cell_type": "code",
   "execution_count": null,
   "id": "29430510",
   "metadata": {},
   "outputs": [],
   "source": [
    "from sklearn.preprocessing import LabelEncoder\n",
    "\n",
    "le = LabelEncoder()\n",
    "le.fit(y_train)\n",
    "\n",
    "y_train = le.transform(y_train)\n",
    "y_test = le.transform(y_test)\n",
    "\n",
    "y_train"
   ]
  },
  {
   "cell_type": "code",
   "execution_count": null,
   "id": "b016b2ea",
   "metadata": {},
   "outputs": [],
   "source": [
    "from sklearn.feature_extraction.text import CountVectorizer, TfidfVectorizer\n",
    "\n",
    "cv = CountVectorizer()\n",
    "\n",
    "# fit() used for learning vocabulary and searching unique words in the text\n",
    "cv.fit(X_train)\n",
    "\n",
    "# transform() used to convert words into numerical format\n",
    "X_train_count = cv.transform(X_train)\n",
    "X_test_count = cv.transform(X_test)\n",
    "\n",
    "print(X_train_count)"
   ]
  },
  {
   "cell_type": "code",
   "execution_count": null,
   "id": "8691a926",
   "metadata": {},
   "outputs": [],
   "source": [
    "tfidf = TfidfVectorizer(analyzer='char', ngram_range=(2,3))\n",
    "tfidf.fit(X_train)\n",
    "\n",
    "X_train_tfidf = tfidf.transform(X_train)\n",
    "X_test_tfidf = tfidf.transform(X_test)\n",
    "\n",
    "print(X_train_tfidf)"
   ]
  },
  {
   "cell_type": "code",
   "execution_count": null,
   "id": "86593396",
   "metadata": {},
   "outputs": [],
   "source": []
  }
 ],
 "metadata": {
  "kernelspec": {
   "display_name": "Python 3 (ipykernel)",
   "language": "python",
   "name": "python3"
  },
  "language_info": {
   "codemirror_mode": {
    "name": "ipython",
    "version": 3
   },
   "file_extension": ".py",
   "mimetype": "text/x-python",
   "name": "python",
   "nbconvert_exporter": "python",
   "pygments_lexer": "ipython3",
   "version": "3.9.13"
  }
 },
 "nbformat": 4,
 "nbformat_minor": 5
}
